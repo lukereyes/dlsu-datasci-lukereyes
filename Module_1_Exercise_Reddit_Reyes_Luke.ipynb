{
 "cells": [
  {
   "cell_type": "code",
   "execution_count": null,
   "metadata": {},
   "outputs": [],
   "source": []
  },
  {
   "cell_type": "markdown",
   "metadata": {},
   "source": [
    "# Exercise"
   ]
  },
  {
   "cell_type": "markdown",
   "metadata": {},
   "source": [
    "For your exercise do the following:\n",
    "\n",
    "1. Choose a reddit page you want to crawl\n",
    "2. The following fields should be present when you crawl **(10 points)**:\n",
    "    - author\n",
    "    - subreddit\n",
    "    - date created \n",
    "    - number of comments \n",
    "    - score\n",
    "    - submission title \n",
    "    - submission description\n",
    "3. After crawling, save your results to a pandas dataframe **(3 points)**. \n",
    "4. Answer the following questions **(12 points)**:\n",
    "    - How many submissions were you able to gather? \n",
    "    - Who has the most submissions? \n",
    "    - Which submission has the highest score? \n",
    "    - Which submission has the highest number of comments?\n",
    "    - Which day of the week has the most submissions? \n",
    "    \n",
    "**Tip:** _For item#4, recall how to use the aggregation functions in `pandas` like count, value_counts, sum, etc. For getting the day of the week, look into how to get the `dayofweek` from a datetime object in `pandas`. (Hint: You may need to use `pd.to_datetime` to convert your date column...)_"
   ]
  },
  {
   "cell_type": "code",
   "execution_count": 19,
   "metadata": {},
   "outputs": [],
   "source": [
    "import pandas as pd \n",
    "import datetime\n",
    "import csv\n",
    "import os \n",
    "import requests \n",
    "import datetime as dt\n",
    "import time"
   ]
  },
  {
   "cell_type": "code",
   "execution_count": null,
   "metadata": {},
   "outputs": [],
   "source": []
  },
  {
   "cell_type": "code",
   "execution_count": 20,
   "metadata": {},
   "outputs": [
    {
     "name": "stdout",
     "output_type": "stream",
     "text": [
      "Doing 2020-08-01 to 2020-08-02\n",
      "=====Done\n",
      "Doing 2020-08-02 to 2020-08-03\n",
      "=====Done\n",
      "Doing 2020-08-03 to 2020-08-04\n",
      "=====Done\n",
      "Doing 2020-08-04 to 2020-08-05\n",
      "=====Done\n",
      "Doing 2020-08-05 to 2020-08-06\n",
      "=====Done\n"
     ]
    }
   ],
   "source": [
    "def to_utc(date):\n",
    "    #This function converts an object to UTC. This is to automate the conversion \n",
    "    #of dates instead of going to https://www.unixtimeconverter.io/ \n",
    "    return int(date.replace(tzinfo=dt.timezone.utc).timestamp())\n",
    "    \n",
    "def to_readable_date(timestamp):\n",
    "    #This function converts the UTC format to a Year-Month-Day format \n",
    "    return dt.datetime.fromtimestamp(timestamp).strftime(\"%Y-%m-%d\")\n",
    "\n",
    "#Declare start and end of reddit posts to extract \n",
    "start_date = dt.datetime.strptime(\"2020-08-01\", \"%Y-%m-%d\")\n",
    "end_date = dt.datetime.strptime(\"2020-08-05\", \"%Y-%m-%d\")\n",
    "\n",
    "#Create a range of dates to iterate \n",
    "#Note: Periods here represents the number of days it will create from the start date \n",
    "#We also do a +2 since it will only generate up to April 29. We inlcude May 1 \n",
    "#since we want to get data from the last day which is April 30 to May 1 \n",
    "date_range = (pd.date_range(\n",
    "                start_date, \n",
    "                periods=(end_date - start_date).days + 2)\n",
    "              .tolist())\n",
    "\n",
    "#prepare the parameters needed to call the API\n",
    "sort_type=\"score\"\n",
    "sort=\"desc\"\n",
    "fields=[\"author\",\"subreddit\",\"created_utc\",\"num_comments\",\"score\",\"title\",\"selftext\"]\n",
    "subreddit = 'theumbrellaacademy'\n",
    "url = \"https://api.pushshift.io/reddit/submission/search/\"\n",
    "results = []\n",
    "#loop through the dates \n",
    "for i, s_date in enumerate(date_range):\n",
    "    #prevents us from getting an index out of range error\n",
    "    if i != len(date_range)-1:\n",
    "        #declare end date \n",
    "        e_date = date_range[i+1]\n",
    "        #call the API\n",
    "        r = requests.get(url = url, params={\n",
    "            'after': to_utc(s_date),\n",
    "            'before': to_utc(e_date),\n",
    "            'sort_type': sort_type,\n",
    "            'sort': sort,\n",
    "            'subreddit': subreddit,\n",
    "            'fields': fields,\n",
    "            \"size\": 500\n",
    "        })\n",
    "\n",
    "        #add logs \n",
    "        print(f\"Doing {s_date.strftime('%Y-%m-%d')} to {e_date.strftime('%Y-%m-%d')}\")\n",
    "        if r.status_code == 200:\n",
    "            results.append(r.json()['data'])\n",
    "            print(\"=====Done\")\n",
    "        else:\n",
    "            print(\"=====Skipped\")\n",
    "        #so that we dont get blocked from abusing the API we call it after pausing for 1 second\n",
    "        time.sleep(1)"
   ]
  },
  {
   "cell_type": "code",
   "execution_count": null,
   "metadata": {},
   "outputs": [],
   "source": []
  },
  {
   "cell_type": "code",
   "execution_count": 21,
   "metadata": {},
   "outputs": [
    {
     "data": {
      "text/html": [
       "<div>\n",
       "<style scoped>\n",
       "    .dataframe tbody tr th:only-of-type {\n",
       "        vertical-align: middle;\n",
       "    }\n",
       "\n",
       "    .dataframe tbody tr th {\n",
       "        vertical-align: top;\n",
       "    }\n",
       "\n",
       "    .dataframe thead th {\n",
       "        text-align: right;\n",
       "    }\n",
       "</style>\n",
       "<table border=\"1\" class=\"dataframe\">\n",
       "  <thead>\n",
       "    <tr style=\"text-align: right;\">\n",
       "      <th></th>\n",
       "      <th>author</th>\n",
       "      <th>created_utc</th>\n",
       "      <th>num_comments</th>\n",
       "      <th>score</th>\n",
       "      <th>selftext</th>\n",
       "      <th>subreddit</th>\n",
       "      <th>title</th>\n",
       "    </tr>\n",
       "  </thead>\n",
       "  <tbody>\n",
       "    <tr>\n",
       "      <th>0</th>\n",
       "      <td>cractor28</td>\n",
       "      <td>1596299552</td>\n",
       "      <td>0</td>\n",
       "      <td>1</td>\n",
       "      <td>[removed]</td>\n",
       "      <td>theumbrellaacademy</td>\n",
       "      <td>What are Diego's powers?</td>\n",
       "    </tr>\n",
       "    <tr>\n",
       "      <th>1</th>\n",
       "      <td>vibing-asian</td>\n",
       "      <td>1596249959</td>\n",
       "      <td>3</td>\n",
       "      <td>1</td>\n",
       "      <td>How and where can I join klaus’s cult</td>\n",
       "      <td>theumbrellaacademy</td>\n",
       "      <td>I would really like to know</td>\n",
       "    </tr>\n",
       "    <tr>\n",
       "      <th>2</th>\n",
       "      <td>itzatrap2</td>\n",
       "      <td>1596279233</td>\n",
       "      <td>1</td>\n",
       "      <td>1</td>\n",
       "      <td></td>\n",
       "      <td>theumbrellaacademy</td>\n",
       "      <td>About Five near the end</td>\n",
       "    </tr>\n",
       "    <tr>\n",
       "      <th>3</th>\n",
       "      <td>milliegair</td>\n",
       "      <td>1596285885</td>\n",
       "      <td>0</td>\n",
       "      <td>1</td>\n",
       "      <td></td>\n",
       "      <td>theumbrellaacademy</td>\n",
       "      <td>my favourite scene in all of series 2 🥺</td>\n",
       "    </tr>\n",
       "    <tr>\n",
       "      <th>4</th>\n",
       "      <td>lily99463</td>\n",
       "      <td>1596296823</td>\n",
       "      <td>3</td>\n",
       "      <td>1</td>\n",
       "      <td>Cha-Cha, is that your mask?\\n\\nhttps://preview...</td>\n",
       "      <td>theumbrellaacademy</td>\n",
       "      <td>Easter Egg (Season 2, Episode 8)</td>\n",
       "    </tr>\n",
       "  </tbody>\n",
       "</table>\n",
       "</div>"
      ],
      "text/plain": [
       "         author  created_utc  num_comments  score  \\\n",
       "0     cractor28   1596299552             0      1   \n",
       "1  vibing-asian   1596249959             3      1   \n",
       "2     itzatrap2   1596279233             1      1   \n",
       "3    milliegair   1596285885             0      1   \n",
       "4     lily99463   1596296823             3      1   \n",
       "\n",
       "                                            selftext           subreddit  \\\n",
       "0                                          [removed]  theumbrellaacademy   \n",
       "1              How and where can I join klaus’s cult  theumbrellaacademy   \n",
       "2                                                     theumbrellaacademy   \n",
       "3                                                     theumbrellaacademy   \n",
       "4  Cha-Cha, is that your mask?\\n\\nhttps://preview...  theumbrellaacademy   \n",
       "\n",
       "                                     title  \n",
       "0                 What are Diego's powers?  \n",
       "1              I would really like to know  \n",
       "2                  About Five near the end  \n",
       "3  my favourite scene in all of series 2 🥺  \n",
       "4         Easter Egg (Season 2, Episode 8)  "
      ]
     },
     "metadata": {},
     "output_type": "display_data"
    }
   ],
   "source": [
    "#Question 3\n",
    "\n",
    "flat_list = []\n",
    "#loop through the reddit results\n",
    "for sublist in results:\n",
    "    #check if sublist is not empty. The reason we have empty lists is because there are days wherein there are no submissions\n",
    "    if sublist is not None:\n",
    "        #for each dictionary in the sublist add it to the flat list \n",
    "        for item in sublist:\n",
    "            flat_list.append(item)\n",
    "\n",
    "#pandas has a useful function called from_dict which will convert a list of dictionary objects into a dataframe\n",
    "df = pd.DataFrame.from_dict(flat_list)\n",
    "display(df.head())\n",
    "#df.to_csv(\"umbrella.csv\")"
   ]
  },
  {
   "cell_type": "code",
   "execution_count": 23,
   "metadata": {},
   "outputs": [
    {
     "data": {
      "text/plain": [
       "403"
      ]
     },
     "execution_count": 23,
     "metadata": {},
     "output_type": "execute_result"
    }
   ],
   "source": [
    "#Question 4 - How many submissions were you able to gather? \n",
    "\n",
    "\n",
    "df = pd.read_csv('umbrella.csv')\n",
    "len(df.index)"
   ]
  },
  {
   "cell_type": "code",
   "execution_count": 24,
   "metadata": {},
   "outputs": [
    {
     "data": {
      "text/plain": [
       "'AnnaR3b3kah'"
      ]
     },
     "execution_count": 24,
     "metadata": {},
     "output_type": "execute_result"
    }
   ],
   "source": [
    "#Question 4 - Who has the most submissions? \n",
    "\n",
    "\n",
    "\n",
    "df = pd.read_csv('umbrella.csv')\n",
    "\n",
    "#df['author'].value_counts().head(1)\n",
    "df['author'].value_counts().idxmax()\n"
   ]
  },
  {
   "cell_type": "code",
   "execution_count": 25,
   "metadata": {},
   "outputs": [
    {
     "data": {
      "text/html": [
       "<div>\n",
       "<style scoped>\n",
       "    .dataframe tbody tr th:only-of-type {\n",
       "        vertical-align: middle;\n",
       "    }\n",
       "\n",
       "    .dataframe tbody tr th {\n",
       "        vertical-align: top;\n",
       "    }\n",
       "\n",
       "    .dataframe thead th {\n",
       "        text-align: right;\n",
       "    }\n",
       "</style>\n",
       "<table border=\"1\" class=\"dataframe\">\n",
       "  <thead>\n",
       "    <tr style=\"text-align: right;\">\n",
       "      <th></th>\n",
       "      <th>Unnamed: 0</th>\n",
       "      <th>author</th>\n",
       "      <th>created_utc</th>\n",
       "      <th>num_comments</th>\n",
       "      <th>score</th>\n",
       "      <th>selftext</th>\n",
       "      <th>subreddit</th>\n",
       "      <th>title</th>\n",
       "    </tr>\n",
       "  </thead>\n",
       "  <tbody>\n",
       "    <tr>\n",
       "      <th>0</th>\n",
       "      <td>0</td>\n",
       "      <td>cractor28</td>\n",
       "      <td>1596299552</td>\n",
       "      <td>0</td>\n",
       "      <td>1</td>\n",
       "      <td>[removed]</td>\n",
       "      <td>theumbrellaacademy</td>\n",
       "      <td>What are Diego's powers?</td>\n",
       "    </tr>\n",
       "  </tbody>\n",
       "</table>\n",
       "</div>"
      ],
      "text/plain": [
       "   Unnamed: 0     author  created_utc  num_comments  score   selftext  \\\n",
       "0           0  cractor28   1596299552             0      1  [removed]   \n",
       "\n",
       "            subreddit                     title  \n",
       "0  theumbrellaacademy  What are Diego's powers?  "
      ]
     },
     "execution_count": 25,
     "metadata": {},
     "output_type": "execute_result"
    }
   ],
   "source": [
    "#Question 4 - Which submission has the highest score? \n",
    "\n",
    "df = pd.read_csv('umbrella.csv')\n",
    "\n",
    "#df.sort_values(['num_comments'], ascending=[0])\n",
    "\n",
    "df.nlargest(1,['score'])"
   ]
  },
  {
   "cell_type": "code",
   "execution_count": 26,
   "metadata": {},
   "outputs": [
    {
     "data": {
      "text/html": [
       "<div>\n",
       "<style scoped>\n",
       "    .dataframe tbody tr th:only-of-type {\n",
       "        vertical-align: middle;\n",
       "    }\n",
       "\n",
       "    .dataframe tbody tr th {\n",
       "        vertical-align: top;\n",
       "    }\n",
       "\n",
       "    .dataframe thead th {\n",
       "        text-align: right;\n",
       "    }\n",
       "</style>\n",
       "<table border=\"1\" class=\"dataframe\">\n",
       "  <thead>\n",
       "    <tr style=\"text-align: right;\">\n",
       "      <th></th>\n",
       "      <th>Unnamed: 0</th>\n",
       "      <th>author</th>\n",
       "      <th>created_utc</th>\n",
       "      <th>num_comments</th>\n",
       "      <th>score</th>\n",
       "      <th>selftext</th>\n",
       "      <th>subreddit</th>\n",
       "      <th>title</th>\n",
       "    </tr>\n",
       "  </thead>\n",
       "  <tbody>\n",
       "    <tr>\n",
       "      <th>97</th>\n",
       "      <td>97</td>\n",
       "      <td>shadowdra126</td>\n",
       "      <td>1596251712</td>\n",
       "      <td>179</td>\n",
       "      <td>1</td>\n",
       "      <td>Season 2 Episode 9: \"743\"\\n\\nOriginal Air Date...</td>\n",
       "      <td>theumbrellaacademy</td>\n",
       "      <td>The Umbrella Academy — 2×09 \"743\" — Episode Di...</td>\n",
       "    </tr>\n",
       "  </tbody>\n",
       "</table>\n",
       "</div>"
      ],
      "text/plain": [
       "    Unnamed: 0        author  created_utc  num_comments  score  \\\n",
       "97          97  shadowdra126   1596251712           179      1   \n",
       "\n",
       "                                             selftext           subreddit  \\\n",
       "97  Season 2 Episode 9: \"743\"\\n\\nOriginal Air Date...  theumbrellaacademy   \n",
       "\n",
       "                                                title  \n",
       "97  The Umbrella Academy — 2×09 \"743\" — Episode Di...  "
      ]
     },
     "execution_count": 26,
     "metadata": {},
     "output_type": "execute_result"
    }
   ],
   "source": [
    "#Question 4 - Which submission has the highest number of comments?\n",
    "\n",
    "df = pd.read_csv('umbrella.csv')\n",
    "\n",
    "#df.sort_values(['num_comments'], ascending=[0])\n",
    "df.nlargest(1,['num_comments'])"
   ]
  },
  {
   "cell_type": "code",
   "execution_count": 27,
   "metadata": {},
   "outputs": [
    {
     "data": {
      "text/plain": [
       "Timestamp('2020-08-01 00:00:00')"
      ]
     },
     "execution_count": 27,
     "metadata": {},
     "output_type": "execute_result"
    }
   ],
   "source": [
    "#Question 4 - Which day of the week has the most submissions? \n",
    "    \n",
    "\n",
    "df = pd.read_csv('umbrella.csv')\n",
    "#df[\"created_utc\"].head(20)\n",
    "\n",
    "df['created_utc'] = pd.to_datetime(df['created_utc'], unit='s')\n",
    "df['created_utc'] = pd.to_datetime(df['created_utc'].dt.strftime('%m/%d/%y'))\n",
    "\n",
    "\n",
    "#df['created_utc'].value_counts().head()\n",
    "\n",
    "df['created_utc'].value_counts().idxmax()\n",
    "\n"
   ]
  },
  {
   "cell_type": "code",
   "execution_count": null,
   "metadata": {},
   "outputs": [],
   "source": []
  }
 ],
 "metadata": {
  "kernelspec": {
   "display_name": "Python 3",
   "language": "python",
   "name": "python3"
  },
  "language_info": {
   "codemirror_mode": {
    "name": "ipython",
    "version": 3
   },
   "file_extension": ".py",
   "mimetype": "text/x-python",
   "name": "python",
   "nbconvert_exporter": "python",
   "pygments_lexer": "ipython3",
   "version": "3.8.3"
  }
 },
 "nbformat": 4,
 "nbformat_minor": 4
}
